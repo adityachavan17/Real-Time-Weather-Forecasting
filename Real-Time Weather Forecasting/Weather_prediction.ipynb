{
 "cells": [
  {
   "cell_type": "markdown",
   "metadata": {},
   "source": [
    "Section 1: Import Libraries"
   ]
  },
  {
   "cell_type": "code",
   "execution_count": 10,
   "metadata": {},
   "outputs": [],
   "source": [
    "import requests                                                             # This lib helps us to fetch data from API\n",
    "import pandas as pd                                                          # For handling and analysing data\n",
    "import numpy as np                                                           # For numerical operations\n",
    "from sklearn.model_selection import train_test_split                         # This is used to split data for training and testing\n",
    "from sklearn.preprocessing import LabelEncoder                               # It is use for converting categorical data into numerical values\n",
    "from sklearn.ensemble import RandomForestClassifier, RandomForestRegressor   # Models for classification and regression task\n",
    "from sklearn.metrics import mean_squared_error                               # To measure the accuracy of our prediction\n",
    "from datetime import datetime,timedelta                                      # To handle date and time\n",
    "import pytz\n",
    "\n"
   ]
  },
  {
   "cell_type": "code",
   "execution_count": null,
   "metadata": {},
   "outputs": [],
   "source": [
    "API_KEY='Your_Api' #replace with your actual API key\n",
    "BASE_URL='https://api.openweathermap.org/data/2.5/' #Base url for making API req"
   ]
  },
  {
   "cell_type": "markdown",
   "metadata": {},
   "source": [
    "1. Fetch Current Weather Data"
   ]
  },
  {
   "cell_type": "code",
   "execution_count": 2,
   "metadata": {},
   "outputs": [],
   "source": [
    "def get_current_weather(city):\n",
    "    url=f\"{BASE_URL}weather?q={city}&appid={API_KEY}&units=metric\"  #Construct the API req url\n",
    "    response=requests.get(url)  #send the get request to API\n",
    "    data=response.json()\n",
    "    return{\n",
    "        'city':data['name'],\n",
    "        'current_temp':round(data['main']['temp']),\n",
    "        'feels_like':round(data['main']['feels_like']),\n",
    "        'temp_min':round(data['main']['temp_min']),\n",
    "        'temp_max':round(data['main']['temp_max']),\n",
    "        'humidity':round(data['main']['humidity']),\n",
    "        'description':(data['weather'][0]['description']),\n",
    "        'country':data['sys']['country'],\n",
    "        'wind_gust_dir':data['wind']['deg'],\n",
    "        'pressure':data['main']['pressure'],\n",
    "        'Wind_Gust_Speed':data['wind']['speed']\n",
    "\n",
    "    }\n"
   ]
  },
  {
   "cell_type": "markdown",
   "metadata": {},
   "source": [
    "2.Read Historical Data"
   ]
  },
  {
   "cell_type": "code",
   "execution_count": 3,
   "metadata": {},
   "outputs": [],
   "source": [
    "def read_historical_data(filename):\n",
    "    df=pd.read_csv(filename)             # Load csv file  into dataframe\n",
    "    df=df.dropna()\n",
    "    df=df.drop_duplicates()\n",
    "    return df\n"
   ]
  },
  {
   "cell_type": "markdown",
   "metadata": {},
   "source": [
    "3. Prepare data for training"
   ]
  },
  {
   "cell_type": "code",
   "execution_count": 4,
   "metadata": {},
   "outputs": [],
   "source": [
    "def prepare_data(data):  # Accept DataFrame instead of filename\n",
    "    le = LabelEncoder()  # Create a LabelEncoder instance\n",
    "    data['WindGustDir'] = le.fit_transform(data['WindGustDir'])  \n",
    "    data['RainTomorrow'] = le.fit_transform(data['RainTomorrow'])\n",
    "\n",
    "    # Define the feature variable and target variable\n",
    "    X = data[['MinTemp', 'MaxTemp', 'WindGustDir', 'WindGustSpeed', 'Humidity', 'Pressure', 'Temp']]\n",
    "    y = data['RainTomorrow']\n",
    "\n",
    "    return X, y, le"
   ]
  },
  {
   "cell_type": "markdown",
   "metadata": {},
   "source": [
    "4. Train Rain Prediciton Model"
   ]
  },
  {
   "cell_type": "code",
   "execution_count": 5,
   "metadata": {},
   "outputs": [],
   "source": [
    "def train_rain_model(X,y):\n",
    "    X_train,X_test,y_train,y_test=train_test_split(X,y,test_size=0.2,random_state=42)\n",
    "    model=RandomForestClassifier(n_estimators=100,random_state=42)\n",
    "    model.fit(X_train,y_train)          #Train the model\n",
    "\n",
    "    y_pred=model.predict(X_test)        #To make prediction on test set\n",
    "\n",
    "    print(\"Mean squared error for rain model\")\n",
    "\n",
    "    print(mean_squared_error(y_test,y_pred))\n",
    "\n",
    "    return model\n"
   ]
  },
  {
   "cell_type": "markdown",
   "metadata": {},
   "source": [
    "5. Prepare regression data\n"
   ]
  },
  {
   "cell_type": "code",
   "execution_count": 6,
   "metadata": {},
   "outputs": [],
   "source": [
    "def prepare_regression_data(data,feature):\n",
    "    X,y=[],[]  #intialise  list for feature and target variable\n",
    "\n",
    "    for i in range(len(data)-1):\n",
    "        X.append(data[feature].iloc[i])\n",
    "        y.append(data[feature].iloc[i+1])\n",
    "    \n",
    "    X=np.array(X).reshape(-1,1)\n",
    "    y=np.array(y)\n",
    "\n",
    "    return X,y"
   ]
  },
  {
   "cell_type": "markdown",
   "metadata": {},
   "source": [
    "6. Train Regression Model"
   ]
  },
  {
   "cell_type": "code",
   "execution_count": 7,
   "metadata": {},
   "outputs": [],
   "source": [
    "def train_regression_model(X,y):\n",
    "    model=RandomForestRegressor(n_estimators=100,random_state=42)\n",
    "    model.fit(X,y)\n",
    "    return model"
   ]
  },
  {
   "cell_type": "markdown",
   "metadata": {},
   "source": [
    "7. Predict Future"
   ]
  },
  {
   "cell_type": "code",
   "execution_count": 8,
   "metadata": {},
   "outputs": [],
   "source": [
    "def predict_future(model,current_value):\n",
    "    predictions=[current_value]\n",
    "\n",
    "    for i in range(5):\n",
    "        next_value=model.predict(np.array([[predictions[-1]]]))\n",
    "        predictions.append(next_value[0])\n",
    "    return predictions[1:]\n"
   ]
  },
  {
   "cell_type": "markdown",
   "metadata": {},
   "source": [
    "8.Weather Analysis Function"
   ]
  },
  {
   "cell_type": "code",
   "execution_count": 11,
   "metadata": {},
   "outputs": [
    {
     "name": "stdout",
     "output_type": "stream",
     "text": [
      "Mean squared error for rain model\n",
      "0.16216216216216217\n",
      "City: Pune, IN\n",
      "Current Temperature: 32°C\n",
      "Feels like: 30°C\n",
      "Minimum Temperature: 32°C\n",
      "Maximum Temperature: 32°C\n",
      "Humidity: 15%\n",
      "Weather Prediction: clear sky\n",
      "Rain Prediction: No\n",
      "\n",
      "Future Temperature Predictions:\n",
      "13:00: 32.5°C\n",
      "14:00: 32.0°C\n",
      "15:00: 32.7°C\n",
      "16:00: 31.1°C\n",
      "17:00: 31.0°C\n",
      "\n",
      "Future Humidity Predictions:\n",
      "13:00: 21.1%\n",
      "14:00: 27.8%\n",
      "15:00: 27.8%\n",
      "16:00: 27.8%\n",
      "17:00: 27.8%\n"
     ]
    }
   ],
   "source": [
    "def weather_view():\n",
    "    city = input(\"Enter city Name:\")\n",
    "    current_weather = get_current_weather(city)\n",
    "\n",
    "    # Load historical data\n",
    "    historical_data = pd.read_csv('weather.csv')  #  Load dataset\n",
    "    X, y, le = prepare_data(historical_data)  #  Pass the DataFrame directly\n",
    "\n",
    "    # Train the rain prediction model\n",
    "    rain_model = train_rain_model(X, y)\n",
    "\n",
    "    # Map wind direction to compass points\n",
    "    wind_deg = current_weather['wind_gust_dir'] % 360\n",
    "\n",
    "    compass_points = [\n",
    "        (\"N\", 0, 11.25), (\"NNE\", 11.25, 33.75), (\"NE\", 33.75, 56.25), (\"ENE\", 56.25, 78.75),\n",
    "        (\"E\", 78.75, 101.25), (\"ESE\", 101.25, 123.75), (\"SE\", 123.75, 146.25), (\"SSE\", 146.25, 168.75),\n",
    "        (\"S\", 168.75, 191.25), (\"SSW\", 191.25, 213.75), (\"SW\", 213.75, 236.25), (\"WSW\", 236.25, 258.75),\n",
    "        (\"W\", 258.75, 281.25), (\"WNW\", 281.25, 303.75), (\"NW\", 303.75, 326.25), (\"NNW\", 326.25, 348.75)\n",
    "    ]\n",
    "    \n",
    "    compass_direction = next(point for point, start, end in compass_points if start <= wind_deg < end)\n",
    "\n",
    "    compass_direction_encoded = le.transform([compass_direction])[0] if compass_direction in le.classes_ else -1\n",
    "\n",
    "    current_data = {\n",
    "        'MinTemp': current_weather['temp_min'],\n",
    "        'MaxTemp': current_weather['temp_max'],\n",
    "        'WindGustDir': compass_direction_encoded,\n",
    "        'WindGustSpeed': current_weather['Wind_Gust_Speed'],\n",
    "        'Humidity': current_weather['humidity'],\n",
    "        'Pressure': current_weather['pressure'],\n",
    "        'Temp': current_weather['current_temp'],\n",
    "    }\n",
    "\n",
    "    current_df = pd.DataFrame([current_data])\n",
    "\n",
    "    # Rain prediction\n",
    "    rain_prediction = rain_model.predict(current_df)[0]\n",
    "\n",
    "    X_temp, y_temp = prepare_regression_data(historical_data, 'Temp')  \n",
    "    X_hum, y_hum = prepare_regression_data(historical_data, 'Humidity')\n",
    "\n",
    "    temp_model = train_regression_model(X_temp, y_temp)\n",
    "    hum_model = train_regression_model(X_hum, y_hum)\n",
    "\n",
    "    # Predict future temperature and humidity\n",
    "    future_temp = predict_future(temp_model, current_weather['temp_min'])\n",
    "    future_humidity = predict_future(hum_model, current_weather['humidity'])\n",
    "\n",
    "    # Prepare time for future prediction\n",
    "    timezone = pytz.timezone('Asia/Kolkata')  \n",
    "    now = datetime.now(timezone)\n",
    "    next_hour = now + timedelta(hours=1)\n",
    "    next_hour = next_hour.replace(minute=0, second=0, microsecond=0)\n",
    "\n",
    "    future_times = [(next_hour + timedelta(hours=i)).strftime('%H:00') for i in range(5)]\n",
    "\n",
    "    # Display results\n",
    "    print(f'City: {city}, {current_weather[\"country\"]}')\n",
    "    print(f'Current Temperature: {current_weather[\"current_temp\"]}°C')\n",
    "    print(f'Feels like: {current_weather[\"feels_like\"]}°C')\n",
    "    print(f'Minimum Temperature: {current_weather[\"temp_min\"]}°C')\n",
    "    print(f'Maximum Temperature: {current_weather[\"temp_max\"]}°C')\n",
    "    print(f'Humidity: {current_weather[\"humidity\"]}%')\n",
    "    print(f'Weather Prediction: {current_weather[\"description\"]}')\n",
    "    print(f'Rain Prediction: {\"Yes\" if rain_prediction else \"No\"}')\n",
    "\n",
    "    print(\"\\nFuture Temperature Predictions:\")\n",
    "    for time, temp in zip(future_times, future_temp):\n",
    "        print(f\"{time}: {round(temp, 1)}°C\")\n",
    "\n",
    "    print(\"\\nFuture Humidity Predictions:\")\n",
    "    for time, humidity in zip(future_times, future_humidity):\n",
    "        print(f\"{time}: {round(humidity, 1)}%\")\n",
    "\n",
    "weather_view()"
   ]
  }
 ],
 "metadata": {
  "kernelspec": {
   "display_name": "Python 3",
   "language": "python",
   "name": "python3"
  },
  "language_info": {
   "codemirror_mode": {
    "name": "ipython",
    "version": 3
   },
   "file_extension": ".py",
   "mimetype": "text/x-python",
   "name": "python",
   "nbconvert_exporter": "python",
   "pygments_lexer": "ipython3",
   "version": "3.13.0"
  }
 },
 "nbformat": 4,
 "nbformat_minor": 2
}
